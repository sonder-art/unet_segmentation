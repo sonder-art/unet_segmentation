{
 "cells": [
  {
   "cell_type": "code",
   "execution_count": 1,
   "id": "e23eea32-58c0-41d9-b58f-b37ae5d33ca0",
   "metadata": {},
   "outputs": [
    {
     "name": "stderr",
     "output_type": "stream",
     "text": [
      "/home/warrior/miniconda3/envs/dl/lib/python3.9/site-packages/tqdm/auto.py:22: TqdmWarning: IProgress not found. Please update jupyter and ipywidgets. See https://ipywidgets.readthedocs.io/en/stable/user_install.html\n",
      "  from .autonotebook import tqdm as notebook_tqdm\n"
     ]
    }
   ],
   "source": [
    "import os\n",
    "import sys\n",
    "\n",
    "import torch\n",
    "import torch.nn as nn\n",
    "import torch.optim as optim\n",
    "import torch.nn.functional as F\n",
    "\n",
    "import matplotlib.pyplot as plt\n",
    "import nibabel as nib\n",
    "import numpy as np"
   ]
  },
  {
   "cell_type": "code",
   "execution_count": 2,
   "id": "9a1ff337-18dd-4236-a76c-d5ff9e1ea59e",
   "metadata": {},
   "outputs": [],
   "source": [
    "nb_dir = os.path.split(os.getcwd())[0]\n",
    "sys.path.append(nb_dir)"
   ]
  },
  {
   "cell_type": "code",
   "execution_count": 3,
   "id": "9ffbd00f-9984-4ad8-8dcc-76043ec12bce",
   "metadata": {},
   "outputs": [],
   "source": [
    "%load_ext autoreload\n",
    "%autoreload 2\n",
    "from unet.processing.process_tensor import tensor_to_image, postprocess"
   ]
  },
  {
   "cell_type": "code",
   "execution_count": 4,
   "id": "b2ab2b99-5aca-475c-947c-4de84b3170bd",
   "metadata": {},
   "outputs": [],
   "source": [
    "PATH = \"../local_data/prediction/tensor_image.pth\""
   ]
  },
  {
   "cell_type": "code",
   "execution_count": 5,
   "id": "40bb58ab-e3ca-4cf5-a234-edd458afe81d",
   "metadata": {},
   "outputs": [
    {
     "name": "stdout",
     "output_type": "stream",
     "text": [
      "torch.Size([1, 1, 32, 32, 32])\n"
     ]
    }
   ],
   "source": [
    "y_tensor = torch.load(PATH, map_location=torch.device('cpu'))\n",
    "print(y_tensor.shape)"
   ]
  },
  {
   "cell_type": "code",
   "execution_count": 6,
   "id": "4045c5fe-8882-477a-b82f-70b7a822cbf9",
   "metadata": {},
   "outputs": [
    {
     "name": "stdout",
     "output_type": "stream",
     "text": [
      "torch.Size([32, 32, 32])\n"
     ]
    }
   ],
   "source": [
    "y_image = y_tensor.squeeze()\n",
    "print(y_image.shape)"
   ]
  },
  {
   "cell_type": "code",
   "execution_count": 7,
   "id": "b31da42c-3ae4-4d68-9a98-ce80607d0084",
   "metadata": {},
   "outputs": [
    {
     "name": "stdout",
     "output_type": "stream",
     "text": [
      "torch.Size([32, 32, 32])\n"
     ]
    }
   ],
   "source": [
    "y_image = y_image.permute(1, 2, 0)\n",
    "print(y_image.shape)"
   ]
  },
  {
   "cell_type": "code",
   "execution_count": 8,
   "id": "ee2061ab-fb94-4725-bcfd-09bfc150ae21",
   "metadata": {},
   "outputs": [
    {
     "name": "stdout",
     "output_type": "stream",
     "text": [
      "<class 'numpy.ndarray'>\n",
      "(32, 32, 32)\n"
     ]
    }
   ],
   "source": [
    "img = y_image.cpu().detach().numpy()\n",
    "print(type(img))\n",
    "print(img.shape)"
   ]
  },
  {
   "cell_type": "code",
   "execution_count": 9,
   "id": "feb52a0a-bf47-4498-aab0-5967b475ed9b",
   "metadata": {},
   "outputs": [],
   "source": [
    "image_index = 10"
   ]
  },
  {
   "cell_type": "code",
   "execution_count": 10,
   "id": "87bcc815-2d18-43ac-858e-fdce0a735576",
   "metadata": {},
   "outputs": [
    {
     "name": "stdout",
     "output_type": "stream",
     "text": [
      "FULL TENSOR min -4.042701 max 1.1966009\n",
      "SLICE min -3.7460203 max 0.52919304\n"
     ]
    },
    {
     "data": {
      "image/png": "[encoded data removed]",
      "text/plain": [
       "<Figure size 432x288 with 2 Axes>"
      ]
     },
     "metadata": {
      "needs_background": "light"
     },
     "output_type": "display_data"
    }
   ],
   "source": [
    "plt.figure()\n",
    "plt.title(f'Frame {image_index}', fontsize=20)\n",
    "color_map = plt.imshow(img[:,:,image_index])\n",
    "plt.colorbar()\n",
    "\n",
    "print('FULL TENSOR','min', np.min(img[:,:,:]), 'max', np.max(img[:,:,:]))\n",
    "print('SLICE','min', np.min(img[:,:,image_index]), 'max', np.max(img[:,:,image_index]))"
   ]
  },
  {
   "cell_type": "code",
   "execution_count": 11,
   "id": "b357d638-5fc4-41da-a4e9-aae8d476288a",
   "metadata": {},
   "outputs": [
    {
     "name": "stdout",
     "output_type": "stream",
     "text": [
      "min -3.8017392 max 1.1234365\n",
      "min -3.7269368 max 0.8811421\n",
      "min -3.7460203 max 0.52919304\n"
     ]
    },
    {
     "data": {
      "image/png": "[encoded data removed]",
      "text/plain": [
       "<Figure size 864x288 with 3 Axes>"
      ]
     },
     "metadata": {
      "needs_background": "light"
     },
     "output_type": "display_data"
    }
   ],
   "source": [
    "rows, cols = 1, 3\n",
    "image_set = [img[image_index,::],img[:,image_index,:],img[:,:,image_index]]\n",
    "image_name = ['dim_0','dim_1','dim_2']\n",
    "fig, ax = plt.subplots(rows, cols, figsize=(12,4))\n",
    "fig.suptitle('Frame {}'.format(image_index), fontsize=16)\n",
    "for row in range(rows):\n",
    "    for col in range(cols):\n",
    "        plot_image = image_set[col]\n",
    "        print('min',np.min(plot_image), 'max', np.max(plot_image))\n",
    "        ax[col].imshow(plot_image, aspect='auto')\n",
    "        ax[col].set_xlabel(\"{} - {}\".format(image_name[col],plot_image.shape), fontsize=15)"
   ]
  },
  {
   "cell_type": "code",
   "execution_count": null,
   "id": "5825e430-ab3c-44d4-a676-cf355c60574b",
   "metadata": {},
   "outputs": [],
   "source": []
  },
  {
   "cell_type": "code",
   "execution_count": null,
   "id": "16386a98-e980-4a05-9a71-e4709539763f",
   "metadata": {},
   "outputs": [],
   "source": []
  },
  {
   "cell_type": "markdown",
   "id": "a42a3fb0-75f8-466c-ad4b-1d30eb260bc8",
   "metadata": {},
   "source": [
    "## Add Background layer"
   ]
  },
  {
   "cell_type": "code",
   "execution_count": 48,
   "id": "a9f6b5cc-2078-48bd-8e28-bec0e3c0abac",
   "metadata": {},
   "outputs": [],
   "source": [
    "##torch.full((2, 3), 3.141592)"
   ]
  },
  {
   "cell_type": "code",
   "execution_count": 12,
   "id": "b2834c7d-0a3d-4a75-ba2c-cc543631c287",
   "metadata": {},
   "outputs": [
    {
     "data": {
      "text/plain": [
       "torch.Size([1, 1, 32, 32, 32])"
      ]
     },
     "execution_count": 12,
     "metadata": {},
     "output_type": "execute_result"
    }
   ],
   "source": [
    "y_tensor_2 = torch.zeros(1,1,32,32,32)\n",
    "y_tensor_2.shape"
   ]
  },
  {
   "cell_type": "code",
   "execution_count": 13,
   "id": "7cdfce44-704a-4bd0-a965-3e5eb4aa0bed",
   "metadata": {},
   "outputs": [
    {
     "data": {
      "text/plain": [
       "torch.Size([1, 2, 32, 32, 32])"
      ]
     },
     "execution_count": 13,
     "metadata": {},
     "output_type": "execute_result"
    }
   ],
   "source": [
    "y_tensor_3 = torch.cat((y_tensor, y_tensor_2), 1)\n",
    "y_tensor_3.shape"
   ]
  },
  {
   "cell_type": "code",
   "execution_count": 14,
   "id": "3e4e9b26-4772-42cd-baf6-ff5669943399",
   "metadata": {},
   "outputs": [
    {
     "name": "stdout",
     "output_type": "stream",
     "text": [
      "tensor(-3.7460, grad_fn=<MinBackward1>) tensor(0.5292, grad_fn=<MaxBackward1>)\n",
      "tensor(-3.8017, grad_fn=<MinBackward1>) tensor(1.1234, grad_fn=<MaxBackward1>)\n",
      "tensor(-3.7269, grad_fn=<MinBackward1>) tensor(0.8811, grad_fn=<MaxBackward1>)\n",
      "\n",
      "tensor(0., grad_fn=<MinBackward1>) tensor(0., grad_fn=<MaxBackward1>)\n",
      "tensor(0., grad_fn=<MinBackward1>) tensor(0., grad_fn=<MaxBackward1>)\n",
      "tensor(0., grad_fn=<MinBackward1>) tensor(0., grad_fn=<MaxBackward1>)\n"
     ]
    }
   ],
   "source": [
    "print(y_tensor_3[0,0,image_index,:,:].min(), y_tensor_3[0,0,image_index,:,:].max())\n",
    "print(y_tensor_3[0,0,:,image_index,:].min(), y_tensor_3[0,0,:,image_index,:].max())\n",
    "print(y_tensor_3[0,0,:,:,image_index].min(), y_tensor_3[0,0,:,:,image_index].max())\n",
    "print('')\n",
    "print(y_tensor_3[0,1,image_index,:,:].min(), y_tensor_3[0,1,image_index,:,:].max())\n",
    "print(y_tensor_3[0,1,:,image_index,:].min(), y_tensor_3[0,1,:,image_index,:].max())\n",
    "print(y_tensor_3[0,1,:,:,image_index].min(), y_tensor_3[0,1,:,:,image_index].max())"
   ]
  },
  {
   "cell_type": "code",
   "execution_count": 48,
   "id": "5dbe4386-36a0-412c-ac0a-82cfa0b4a52d",
   "metadata": {},
   "outputs": [
    {
     "data": {
      "text/plain": [
       "torch.Size([1, 2, 32, 32, 32])"
      ]
     },
     "execution_count": 48,
     "metadata": {},
     "output_type": "execute_result"
    }
   ],
   "source": [
    "fmax = nn.Softmax(dim=1)\n",
    "soft = fmax(y_tensor_3)\n",
    "soft.shape"
   ]
  },
  {
   "cell_type": "code",
   "execution_count": 49,
   "id": "d15d0d51-b327-4780-9452-e32325b6f2e1",
   "metadata": {},
   "outputs": [
    {
     "name": "stdout",
     "output_type": "stream",
     "text": [
      "tensor(0.0231, grad_fn=<MinBackward1>) tensor(0.6293, grad_fn=<MaxBackward1>)\n",
      "tensor(0.0218, grad_fn=<MinBackward1>) tensor(0.7546, grad_fn=<MaxBackward1>)\n",
      "tensor(0.0235, grad_fn=<MinBackward1>) tensor(0.7071, grad_fn=<MaxBackward1>)\n",
      "\n",
      "tensor(0.3707, grad_fn=<MinBackward1>) tensor(0.9769, grad_fn=<MaxBackward1>)\n",
      "tensor(0.2454, grad_fn=<MinBackward1>) tensor(0.9782, grad_fn=<MaxBackward1>)\n",
      "tensor(0.2929, grad_fn=<MinBackward1>) tensor(0.9765, grad_fn=<MaxBackward1>)\n"
     ]
    }
   ],
   "source": [
    "print(soft[0,0,image_index,:,:].min(), soft[0,0,image_index,:,:].max())\n",
    "print(soft[0,0,:,image_index,:].min(), soft[0,0,:,image_index,:].max())\n",
    "print(soft[0,0,:,:,image_index].min(), soft[0,0,:,:,image_index].max())\n",
    "print('')\n",
    "print(soft[0,1,image_index,:,:].min(), soft[0,1,image_index,:,:].max())\n",
    "print(soft[0,1,:,image_index,:].min(), soft[0,1,:,image_index,:].max())\n",
    "print(soft[0,1,:,:,image_index].min(), soft[0,1,:,:,image_index].max())"
   ]
  },
  {
   "cell_type": "markdown",
   "id": "395a694f-0907-4515-a5b8-b319d5ae084b",
   "metadata": {},
   "source": [
    "## Permute DIM"
   ]
  },
  {
   "cell_type": "code",
   "execution_count": 51,
   "id": "90317460-dda7-4823-b149-f2440ce31d11",
   "metadata": {},
   "outputs": [
    {
     "name": "stdout",
     "output_type": "stream",
     "text": [
      "torch.Size([1, 2, 32, 32, 32])\n"
     ]
    }
   ],
   "source": [
    "soft = soft.permute(0, 1, 3, 4, 2)\n",
    "print(soft.shape)"
   ]
  },
  {
   "cell_type": "code",
   "execution_count": 52,
   "id": "6a3e8022-f54d-44bc-b5b7-dae6ca829ff7",
   "metadata": {},
   "outputs": [
    {
     "name": "stdout",
     "output_type": "stream",
     "text": [
      "<class 'numpy.ndarray'>\n",
      "(1, 2, 32, 32, 32)\n"
     ]
    }
   ],
   "source": [
    "img = soft.cpu().detach().numpy()\n",
    "print(type(img))\n",
    "print(img.shape)"
   ]
  },
  {
   "cell_type": "code",
   "execution_count": 54,
   "id": "3a2c248a-16f0-4a25-b6df-9fe197c6378d",
   "metadata": {},
   "outputs": [
    {
     "name": "stdout",
     "output_type": "stream",
     "text": [
      "(32, 32)\n"
     ]
    },
    {
     "data": {
      "text/plain": [
       "<matplotlib.colorbar.Colorbar at 0x7f1aee7cff40>"
      ]
     },
     "execution_count": 54,
     "metadata": {},
     "output_type": "execute_result"
    },
    {
     "data": {
      "image/png": "[encoded data removed]",
      "text/plain": [
       "<Figure size 432x288 with 2 Axes>"
      ]
     },
     "metadata": {
      "needs_background": "light"
     },
     "output_type": "display_data"
    }
   ],
   "source": [
    "plt.figure()\n",
    "img_flat = img[0,0,:,:,image_index]\n",
    "print(img_flat.shape)\n",
    "color_map = plt.imshow(img_flat)\n",
    "plt.colorbar()"
   ]
  },
  {
   "cell_type": "code",
   "execution_count": 19,
   "id": "c9e57ece-89de-4f75-9c38-708da62732c8",
   "metadata": {},
   "outputs": [
    {
     "data": {
      "text/plain": [
       "(0.02350086, 0.7070588)"
      ]
     },
     "execution_count": 19,
     "metadata": {},
     "output_type": "execute_result"
    }
   ],
   "source": [
    "np.min(img_flat), np.max(img_flat)"
   ]
  },
  {
   "cell_type": "code",
   "execution_count": 56,
   "id": "05322a8f-05d6-4cee-b1ac-19975a1c7892",
   "metadata": {},
   "outputs": [
    {
     "name": "stdout",
     "output_type": "stream",
     "text": [
      "(32, 32)\n"
     ]
    },
    {
     "data": {
      "text/plain": [
       "<matplotlib.colorbar.Colorbar at 0x7f1ae93eb8e0>"
      ]
     },
     "execution_count": 56,
     "metadata": {},
     "output_type": "execute_result"
    },
    {
     "data": {
      "image/png": "[encoded data removed]",
      "text/plain": [
       "<Figure size 432x288 with 2 Axes>"
      ]
     },
     "metadata": {
      "needs_background": "light"
     },
     "output_type": "display_data"
    }
   ],
   "source": [
    "plt.figure()\n",
    "img_flat = img[0,1,:,:,image_index]\n",
    "print(img_flat.shape)\n",
    "color_map = plt.imshow(img_flat)\n",
    "plt.colorbar()"
   ]
  },
  {
   "cell_type": "code",
   "execution_count": 31,
   "id": "7040a760-de67-4c61-abf7-40f0bbb0d147",
   "metadata": {},
   "outputs": [
    {
     "data": {
      "text/plain": [
       "(0.37070513, 0.9769331)"
      ]
     },
     "execution_count": 31,
     "metadata": {},
     "output_type": "execute_result"
    }
   ],
   "source": [
    "np.min(img_flat), np.max(img_flat)"
   ]
  },
  {
   "cell_type": "code",
   "execution_count": null,
   "id": "a43c6f38-5a86-493f-93cf-c5e5617c4876",
   "metadata": {},
   "outputs": [],
   "source": []
  },
  {
   "cell_type": "code",
   "execution_count": null,
   "id": "aa0f923e-8901-4541-bdfb-5b46cd083a5d",
   "metadata": {},
   "outputs": [],
   "source": []
  },
  {
   "cell_type": "code",
   "execution_count": 32,
   "id": "86b33bcb-0913-4cbf-a7d2-bacdf08cea4c",
   "metadata": {},
   "outputs": [
    {
     "name": "stdout",
     "output_type": "stream",
     "text": [
      "torch.Size([2, 32, 32, 32])\n"
     ]
    }
   ],
   "source": [
    "y_image = soft.squeeze()\n",
    "print(y_image.shape)"
   ]
  },
  {
   "cell_type": "code",
   "execution_count": 33,
   "id": "21cafe39-21cd-477f-a930-c81f357cf9a1",
   "metadata": {},
   "outputs": [
    {
     "name": "stdout",
     "output_type": "stream",
     "text": [
      "torch.Size([2, 32, 32, 32])\n"
     ]
    }
   ],
   "source": [
    "y_image = y_image.permute(0, 2, 3, 1)\n",
    "print(y_image.shape)"
   ]
  },
  {
   "cell_type": "code",
   "execution_count": 34,
   "id": "e1380d32-9157-41a3-8d18-3bef1fe2679b",
   "metadata": {},
   "outputs": [
    {
     "data": {
      "text/plain": [
       "torch.Size([32, 32, 32])"
      ]
     },
     "execution_count": 34,
     "metadata": {},
     "output_type": "execute_result"
    }
   ],
   "source": [
    "y_image = torch.argmax(y_image, dim=0)\n",
    "y_image.shape"
   ]
  },
  {
   "cell_type": "code",
   "execution_count": 44,
   "id": "8768e0b0-4c81-483a-b548-16328f5b17b0",
   "metadata": {},
   "outputs": [
    {
     "name": "stdout",
     "output_type": "stream",
     "text": [
      "<class 'numpy.ndarray'>\n",
      "(32, 32, 32)\n",
      "<class 'numpy.ndarray'>\n",
      "(1, 2, 32, 32, 32)\n"
     ]
    }
   ],
   "source": [
    "img_bin = y_image.cpu().detach().numpy()\n",
    "print(type(img_bin))\n",
    "print(img_bin.shape)\n",
    "img_bin = np.where(img_bin==0,1,0)\n",
    "print(type(img))\n",
    "print(img.shape)"
   ]
  },
  {
   "cell_type": "code",
   "execution_count": 45,
   "id": "e701971a-cc98-46a6-aa5d-950f444ef236",
   "metadata": {},
   "outputs": [
    {
     "name": "stdout",
     "output_type": "stream",
     "text": [
      "0 1\n",
      "0 1\n",
      "0 1\n"
     ]
    }
   ],
   "source": [
    "print(img_bin[image_index,:,:].min(), img_bin[image_index,:,:].max())\n",
    "print(img_bin[:,image_index,:].min(), img_bin[:,image_index,:].max())\n",
    "print(img_bin[:,:,image_index].min(), img_bin[:,:,image_index].max())"
   ]
  },
  {
   "cell_type": "code",
   "execution_count": 46,
   "id": "0b0e7438-b070-4e6e-80ba-db8514345647",
   "metadata": {},
   "outputs": [
    {
     "data": {
      "text/plain": [
       "<matplotlib.colorbar.Colorbar at 0x7f1ae9fa5400>"
      ]
     },
     "execution_count": 46,
     "metadata": {},
     "output_type": "execute_result"
    },
    {
     "data": {
      "image/png": "[encoded data removed]",
      "text/plain": [
       "<Figure size 432x288 with 2 Axes>"
      ]
     },
     "metadata": {
      "needs_background": "light"
     },
     "output_type": "display_data"
    }
   ],
   "source": [
    "plt.figure()\n",
    "color_map = plt.imshow(img_bin[:,:,image_index])\n",
    "plt.colorbar()"
   ]
  },
  {
   "cell_type": "code",
   "execution_count": 38,
   "id": "86e5dd1c-1db1-419d-b031-c54ee9c36045",
   "metadata": {},
   "outputs": [
    {
     "name": "stdout",
     "output_type": "stream",
     "text": [
      "<class 'numpy.ndarray'>\n",
      "Height, Width, N_images, Channels\n",
      "(32, 32, 32)\n"
     ]
    }
   ],
   "source": [
    "input_  = nib.load('../local_data/test_data/hippo_001.nii.gz')\n",
    "input_data = input_.get_fdata()\n",
    "print(type(input_data))\n",
    "print('Height, Width, N_images, Channels')\n",
    "print(input_data.shape)"
   ]
  },
  {
   "cell_type": "code",
   "execution_count": 39,
   "id": "5bde85b2-b9b9-43b7-81c9-f44156b66db8",
   "metadata": {},
   "outputs": [
    {
     "name": "stdout",
     "output_type": "stream",
     "text": [
      "<class 'numpy.ndarray'>\n",
      "Height, Width, N_images, Channels\n",
      "(35, 51, 35)\n"
     ]
    }
   ],
   "source": [
    "train  = nib.load('../local_data/example_train/hippocampus_001.nii.gz')\n",
    "train_data = train.get_fdata()\n",
    "print(type(train_data))\n",
    "print('Height, Width, N_images, Channels')\n",
    "print(train_data.shape)"
   ]
  },
  {
   "cell_type": "code",
   "execution_count": 40,
   "id": "4481feeb-be1f-4625-a775-406183272c25",
   "metadata": {},
   "outputs": [
    {
     "name": "stdout",
     "output_type": "stream",
     "text": [
      "<class 'numpy.ndarray'>\n",
      "Height, Width, N_images, Channels\n",
      "(35, 51, 35)\n"
     ]
    }
   ],
   "source": [
    "label  = nib.load('../local_data/example_label/hippocampus_001.nii.gz')\n",
    "label_data = label.get_fdata()\n",
    "print(type(label_data))\n",
    "print('Height, Width, N_images, Channels')\n",
    "print(label_data.shape)"
   ]
  },
  {
   "cell_type": "code",
   "execution_count": 41,
   "id": "e6e42d46-2b99-4f81-a623-d3ee4c358ce2",
   "metadata": {},
   "outputs": [],
   "source": [
    "image_index = 10"
   ]
  },
  {
   "cell_type": "code",
   "execution_count": 42,
   "id": "c44390e9-6602-4afa-b551-17c1d426fb37",
   "metadata": {},
   "outputs": [
    {
     "name": "stdout",
     "output_type": "stream",
     "text": [
      "Input (32, 32, 32)\n",
      "Img (1, 2, 32, 32, 32)\n",
      "Img_bin (32, 32, 32)\n",
      "Train (35, 51, 35)\n",
      "Label (35, 51, 35)\n"
     ]
    }
   ],
   "source": [
    "print('Input',input_data.shape)\n",
    "print('Img',img.shape)\n",
    "print('Img_bin',img_bin.shape)\n",
    "print('Train',train_data.shape)\n",
    "print('Label',label_data.shape)"
   ]
  },
  {
   "cell_type": "code",
   "execution_count": 57,
   "id": "d420ae9c-d526-4c1c-9c76-7c2e33a21486",
   "metadata": {},
   "outputs": [
    {
     "name": "stdout",
     "output_type": "stream",
     "text": [
      "0 0\n",
      "0 1\n",
      "1 0\n",
      "1 1\n",
      "2 0\n",
      "2 1\n"
     ]
    },
    {
     "data": {
      "image/png": "[encoded data removed]",
      "text/plain": [
       "<Figure size 720x720 with 6 Axes>"
      ]
     },
     "metadata": {
      "needs_background": "light"
     },
     "output_type": "display_data"
    }
   ],
   "source": [
    "rows, cols = 3, 2\n",
    "image_set = np.array([[input_data, img[0,0,:,:,:]],\n",
    "                      [input_data, img_bin],\n",
    "                      [train_data, label_data],\n",
    "                      ], dtype=object)\n",
    "image_name = np.array([['input','pred'],\n",
    "                       ['input','mask'],\n",
    "                       ['train', 'label']])\n",
    "fig, ax = plt.subplots(rows, cols, figsize=(10,10))\n",
    "fig.suptitle('Frame {}'.format(image_index), fontsize=16)\n",
    "for row in range(rows):\n",
    "    for col in range(cols):\n",
    "        print(row,col)\n",
    "        plot_image = image_set[row,col]\n",
    "        ax[row,col].imshow(plot_image[:,:,image_index], aspect='auto')\n",
    "        ax[row,col].set_xlabel(\"{} - {}\".format(image_name[row,col],plot_image.shape), fontsize=15)\n",
    "fig.tight_layout()"
   ]
  },
  {
   "cell_type": "code",
   "execution_count": null,
   "id": "b2ce3ac7-a650-4524-b439-a3e0c4aaab10",
   "metadata": {},
   "outputs": [],
   "source": []
  },
  {
   "cell_type": "code",
   "execution_count": null,
   "id": "221c45ad-d2dc-4a27-acae-0744e970e88d",
   "metadata": {},
   "outputs": [],
   "source": []
  },
  {
   "cell_type": "code",
   "execution_count": null,
   "id": "d16fbefd-6213-4cf3-8c35-516cc10485f6",
   "metadata": {},
   "outputs": [],
   "source": []
  },
  {
   "cell_type": "code",
   "execution_count": null,
   "id": "c1ea9ff8-d6e7-4a22-85ef-270303f708e0",
   "metadata": {},
   "outputs": [],
   "source": []
  }
 ],
 "metadata": {
  "kernelspec": {
   "display_name": "Python 3 (ipykernel)",
   "language": "python",
   "name": "python3"
  },
  "language_info": {
   "codemirror_mode": {
    "name": "ipython",
    "version": 3
   },
   "file_extension": ".py",
   "mimetype": "text/x-python",
   "name": "python",
   "nbconvert_exporter": "python",
   "pygments_lexer": "ipython3",
   "version": "3.9.12"
  }
 },
 "nbformat": 4,
 "nbformat_minor": 5
}
