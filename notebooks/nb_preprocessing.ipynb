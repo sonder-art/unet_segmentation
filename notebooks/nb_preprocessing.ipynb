{
 "cells": [
  {
   "cell_type": "code",
   "execution_count": 1,
   "id": "ff8ee0c2-e193-4cf7-9e14-87161cc43876",
   "metadata": {},
   "outputs": [],
   "source": [
    "import os\n",
    "import gzip\n",
    "import shutil\n",
    "from PIL import Image\n",
    "import nibabel as nib\n",
    "import numpy as np\n",
    "import matplotlib.pyplot as plt"
   ]
  },
  {
   "cell_type": "markdown",
   "id": "663a19e5-4bd4-4903-9dce-c2bc2d39ae9a",
   "metadata": {},
   "source": [
    "# Load nii image"
   ]
  },
  {
   "cell_type": "code",
   "execution_count": 26,
   "id": "83e85c3a-6466-45c2-875c-d423b0166220",
   "metadata": {},
   "outputs": [
    {
     "name": "stdout",
     "output_type": "stream",
     "text": [
      "<class 'numpy.ndarray'>\n",
      "Height, Width, N_images, Channels\n",
      "(35, 51, 35)\n"
     ]
    }
   ],
   "source": [
    "nii_file  = nib.load('data/hippocampus_001.nii.gz')\n",
    "nii_data = nii_file.get_fdata()\n",
    "print(type(nii_data))\n",
    "print('Height, Width, N_images, Channels')\n",
    "print(nii_data.shape)"
   ]
  },
  {
   "cell_type": "markdown",
   "id": "80224f0d-4ac7-4024-9e2c-9a5b5bf7ac8f",
   "metadata": {},
   "source": [
    "# Slice image"
   ]
  },
  {
   "cell_type": "code",
   "execution_count": 27,
   "id": "ba1ed90d-e526-41cc-8291-8b305dce8f8a",
   "metadata": {},
   "outputs": [],
   "source": [
    "suffix = 'extract'\n",
    "\n",
    "# extraction ranges\n",
    "x_idx_range = slice(0, 32)\n",
    "y_idx_range = slice(0, 32)\n",
    "z_idx_range = slice(0, 32)"
   ]
  },
  {
   "cell_type": "code",
   "execution_count": 30,
   "id": "94026129-adac-4ad7-a5e3-f53686c2fb22",
   "metadata": {},
   "outputs": [
    {
     "name": "stdout",
     "output_type": "stream",
     "text": [
      "<class 'numpy.ndarray'>\n",
      "(32, 32, 32)\n"
     ]
    }
   ],
   "source": [
    "block = np.asarray(nii_file.dataobj[x_idx_range, y_idx_range, z_idx_range])\n",
    "print(type(block))\n",
    "print(block.shape)"
   ]
  },
  {
   "cell_type": "markdown",
   "id": "e1237444-e971-4c3f-9d70-b634a488ec7f",
   "metadata": {},
   "source": [
    "# Save image"
   ]
  },
  {
   "cell_type": "code",
   "execution_count": 31,
   "id": "7ea848fe-f65b-4dec-86eb-dced180d420b",
   "metadata": {},
   "outputs": [
    {
     "name": "stdout",
     "output_type": "stream",
     "text": [
      "data/hippo_train.nii.gz\n"
     ]
    }
   ],
   "source": [
    "filename = 'data/hippo_train.nii.gz'\n",
    "print(filename)\n",
    "\n",
    "img = nib.Nifti1Image(block, affine=nii_file.affine)\n",
    "basename, ext = nii_file.get_filename().split(os.extsep, 1)\n",
    "out_name = '{}_{}.{}'.format(basename, suffix, ext)\n",
    "nib.save(img, filename)"
   ]
  },
  {
   "cell_type": "markdown",
   "id": "d0a3ca09-f29b-4861-9fbc-311cd229ab73",
   "metadata": {},
   "source": [
    "# Test new image"
   ]
  },
  {
   "cell_type": "code",
   "execution_count": 32,
   "id": "2048894a-6a37-4c35-b04d-d5875d990e1b",
   "metadata": {},
   "outputs": [
    {
     "name": "stdout",
     "output_type": "stream",
     "text": [
      "<class 'numpy.ndarray'>\n",
      "Height, Width, N_images, Channels\n",
      "(32, 32, 32)\n"
     ]
    }
   ],
   "source": [
    "filename = 'data/hippo_train.nii.gz'\n",
    "nii_file  = nib.load(filename)\n",
    "nii_data = nii_file.get_fdata()\n",
    "print(type(nii_data))\n",
    "print('Height, Width, N_images, Channels')\n",
    "print(nii_data.shape)"
   ]
  },
  {
   "cell_type": "code",
   "execution_count": null,
   "id": "023f7486-63d9-4389-ae77-fd3ecdea9d62",
   "metadata": {},
   "outputs": [],
   "source": []
  }
 ],
 "metadata": {
  "kernelspec": {
   "display_name": "Python 3 (ipykernel)",
   "language": "python",
   "name": "python3"
  },
  "language_info": {
   "codemirror_mode": {
    "name": "ipython",
    "version": 3
   },
   "file_extension": ".py",
   "mimetype": "text/x-python",
   "name": "python",
   "nbconvert_exporter": "python",
   "pygments_lexer": "ipython3",
   "version": "3.9.12"
  }
 },
 "nbformat": 4,
 "nbformat_minor": 5
}
