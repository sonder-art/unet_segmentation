{
 "cells": [
  {
   "cell_type": "code",
   "execution_count": 2,
   "id": "e23eea32-58c0-41d9-b58f-b37ae5d33ca0",
   "metadata": {},
   "outputs": [
    {
     "name": "stderr",
     "output_type": "stream",
     "text": [
      "/home/warrior/miniconda3/envs/dl/lib/python3.9/site-packages/tqdm/auto.py:22: TqdmWarning: IProgress not found. Please update jupyter and ipywidgets. See https://ipywidgets.readthedocs.io/en/stable/user_install.html\n",
      "  from .autonotebook import tqdm as notebook_tqdm\n"
     ]
    }
   ],
   "source": [
    "import torch\n",
    "import torch.nn as nn\n",
    "import torch.optim as optim\n",
    "\n",
    "import matplotlib.pyplot as plt\n",
    "import nibabel as nib\n",
    "import numpy as np"
   ]
  },
  {
   "cell_type": "code",
   "execution_count": 3,
   "id": "4481feeb-be1f-4625-a775-406183272c25",
   "metadata": {},
   "outputs": [
    {
     "name": "stdout",
     "output_type": "stream",
     "text": [
      "<class 'numpy.ndarray'>\n",
      "Height, Width, N_images, Channels\n",
      "(35, 51, 35)\n"
     ]
    }
   ],
   "source": [
    "label  = nib.load('data/label/hippocampus_001.nii.gz')\n",
    "label_data = label.get_fdata()\n",
    "print(type(label_data))\n",
    "print('Height, Width, N_images, Channels')\n",
    "print(label_data.shape)"
   ]
  },
  {
   "cell_type": "code",
   "execution_count": 47,
   "id": "fa7f2e5a-accb-4290-9331-d2f1bc4c0a51",
   "metadata": {},
   "outputs": [],
   "source": [
    "image_index = 9"
   ]
  },
  {
   "cell_type": "code",
   "execution_count": 48,
   "id": "8c79af71-2758-4412-9b7e-114d0200e038",
   "metadata": {},
   "outputs": [
    {
     "data": {
      "image/png": "[encoded data removed]",
      "text/plain": [
       "<Figure size 864x288 with 3 Axes>"
      ]
     },
     "metadata": {
      "needs_background": "light"
     },
     "output_type": "display_data"
    }
   ],
   "source": [
    "rows, cols = 1, 3\n",
    "image_set = [label_data[image_index,::],label_data[:,image_index,:],label_data[:,:,image_index]]\n",
    "image_name = ['dim_0','dim_1','dim_2']\n",
    "fig, ax = plt.subplots(rows, cols, figsize=(12,4))\n",
    "fig.suptitle('Frame {}'.format(image_index), fontsize=16)\n",
    "for row in range(rows):\n",
    "    for col in range(cols):\n",
    "        plot_image = image_set[col]\n",
    "        ax[col].imshow(plot_image, aspect='auto')\n",
    "        ax[col].set_xlabel(\"{} - {}\".format(image_name[col],plot_image.shape), fontsize=15)"
   ]
  },
  {
   "cell_type": "code",
   "execution_count": 44,
   "id": "0847e0ac-3f83-48af-ac85-0548f675b87a",
   "metadata": {},
   "outputs": [
    {
     "name": "stdout",
     "output_type": "stream",
     "text": [
      "0 [0.]\n",
      "1 [0.]\n",
      "2 [0.]\n",
      "3 [0.]\n",
      "4 [0.]\n",
      "5 [0. 1.]\n",
      "6 [0. 1.]\n",
      "7 [0. 1.]\n",
      "8 [0. 1.]\n",
      "9 [0. 1. 2.]\n",
      "10 [0. 1. 2.]\n",
      "11 [0. 1. 2.]\n",
      "12 [0. 1. 2.]\n",
      "13 [0. 1. 2.]\n",
      "14 [0. 1. 2.]\n",
      "15 [0. 1. 2.]\n",
      "16 [0. 1. 2.]\n",
      "17 [0. 2.]\n",
      "18 [0. 2.]\n",
      "19 [0. 2.]\n",
      "20 [0. 2.]\n",
      "21 [0. 2.]\n",
      "22 [0. 2.]\n",
      "23 [0. 2.]\n",
      "24 [0. 2.]\n",
      "25 [0. 2.]\n",
      "26 [0. 2.]\n",
      "27 [0. 2.]\n",
      "28 [0. 2.]\n",
      "29 [0. 2.]\n",
      "30 [0.]\n",
      "31 [0.]\n",
      "32 [0.]\n",
      "33 [0.]\n",
      "34 [0.]\n"
     ]
    }
   ],
   "source": [
    "for idx, i in enumerate(range(label_data.shape[2])):\n",
    "    print(idx, np.unique(label_data[:,:,i]))"
   ]
  },
  {
   "cell_type": "code",
   "execution_count": null,
   "id": "34076193-63f8-48f3-a64e-6a4510f21673",
   "metadata": {},
   "outputs": [],
   "source": []
  }
 ],
 "metadata": {
  "kernelspec": {
   "display_name": "Python 3 (ipykernel)",
   "language": "python",
   "name": "python3"
  },
  "language_info": {
   "codemirror_mode": {
    "name": "ipython",
    "version": 3
   },
   "file_extension": ".py",
   "mimetype": "text/x-python",
   "name": "python",
   "nbconvert_exporter": "python",
   "pygments_lexer": "ipython3",
   "version": "3.9.12"
  }
 },
 "nbformat": 4,
 "nbformat_minor": 5
}
