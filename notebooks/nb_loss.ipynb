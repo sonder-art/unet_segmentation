{
 "cells": [
  {
   "cell_type": "code",
   "execution_count": 1,
   "id": "c9a984b0-13d1-4592-b5df-125e19080918",
   "metadata": {},
   "outputs": [
    {
     "name": "stderr",
     "output_type": "stream",
     "text": [
      "/home/warrior/miniconda3/envs/dl/lib/python3.9/site-packages/tqdm/auto.py:22: TqdmWarning: IProgress not found. Please update jupyter and ipywidgets. See https://ipywidgets.readthedocs.io/en/stable/user_install.html\n",
      "  from .autonotebook import tqdm as notebook_tqdm\n"
     ]
    }
   ],
   "source": [
    "import os\n",
    "import sys\n",
    "import numpy as np\n",
    "import torch\n",
    "import torch.nn as nn"
   ]
  },
  {
   "cell_type": "code",
   "execution_count": 9,
   "id": "ac8fc4bc-cd77-4517-90c2-58c81408d8a8",
   "metadata": {},
   "outputs": [],
   "source": [
    "target = torch.ones([10, 64], dtype=torch.float32)  # 64 classes, batch size = 10\n",
    "output = torch.full([10, 64], 1.5)  # A prediction (logit)\n",
    "#pos_weight = torch.ones([64])  # All weights are equal to 1"
   ]
  },
  {
   "cell_type": "code",
   "execution_count": 10,
   "id": "0e392a8c-2f8b-4142-9e7e-6f52eb7b3f02",
   "metadata": {},
   "outputs": [
    {
     "data": {
      "text/plain": [
       "tensor(0.2014)"
      ]
     },
     "execution_count": 10,
     "metadata": {},
     "output_type": "execute_result"
    }
   ],
   "source": [
    "criterion = torch.nn.BCEWithLogitsLoss()\n",
    "criterion(output, target)  # -log(sigmoid(1.5))"
   ]
  },
  {
   "cell_type": "code",
   "execution_count": null,
   "id": "0898fb98-5b83-4cea-9d8b-636967df4ff0",
   "metadata": {},
   "outputs": [],
   "source": []
  },
  {
   "cell_type": "code",
   "execution_count": null,
   "id": "2aab3ef9-401e-4bc4-ac53-ed820d68dca2",
   "metadata": {},
   "outputs": [],
   "source": []
  },
  {
   "cell_type": "code",
   "execution_count": null,
   "id": "0b9a5e13-0208-4513-8abc-3f2656a0e099",
   "metadata": {},
   "outputs": [],
   "source": []
  },
  {
   "cell_type": "markdown",
   "id": "aa71daf3-5b5f-491c-bd20-f171e4127667",
   "metadata": {},
   "source": [
    "## Target with class inidces"
   ]
  },
  {
   "cell_type": "code",
   "execution_count": 11,
   "id": "dcff1772-3788-49f7-8823-895f81e2c499",
   "metadata": {},
   "outputs": [],
   "source": [
    "pred = torch.randn(3, 5, requires_grad=True)\n",
    "target = torch.empty(3, dtype=torch.long).random_(5)"
   ]
  },
  {
   "cell_type": "code",
   "execution_count": 12,
   "id": "c699d998-15f8-48ee-9748-0b306ae4fccc",
   "metadata": {},
   "outputs": [
    {
     "data": {
      "text/plain": [
       "tensor([[-2.1933,  0.2501, -0.5174,  0.7760, -1.6690],\n",
       "        [-0.6522, -2.2804, -0.2807,  0.0362, -0.4162],\n",
       "        [ 0.1861,  1.2671, -1.8653,  1.6105,  1.8554]], requires_grad=True)"
      ]
     },
     "execution_count": 12,
     "metadata": {},
     "output_type": "execute_result"
    }
   ],
   "source": [
    "pred"
   ]
  },
  {
   "cell_type": "code",
   "execution_count": 13,
   "id": "38d0655b-378f-4921-a575-fc1012470997",
   "metadata": {},
   "outputs": [
    {
     "data": {
      "text/plain": [
       "tensor([0, 0, 0])"
      ]
     },
     "execution_count": 13,
     "metadata": {},
     "output_type": "execute_result"
    }
   ],
   "source": [
    "target"
   ]
  },
  {
   "cell_type": "code",
   "execution_count": 14,
   "id": "b2d54ab7-3805-4377-adc7-8c12f63cd1fd",
   "metadata": {},
   "outputs": [
    {
     "data": {
      "text/plain": [
       "tensor(2.6818, grad_fn=<NllLossBackward0>)"
      ]
     },
     "execution_count": 14,
     "metadata": {},
     "output_type": "execute_result"
    }
   ],
   "source": [
    "criterion = nn.CrossEntropyLoss()\n",
    "criterion(pred, target)"
   ]
  },
  {
   "cell_type": "markdown",
   "id": "67561d9f-a4e8-4dba-a868-7cc0d7e19c89",
   "metadata": {},
   "source": [
    "# Target with class probabilities"
   ]
  },
  {
   "cell_type": "code",
   "execution_count": 15,
   "id": "a50d21bd-2553-4944-9a4b-ea0293d7434d",
   "metadata": {},
   "outputs": [],
   "source": [
    "pred = torch.randn(3, 5, requires_grad=True)\n",
    "target = torch.randn(3, 5).softmax(dim=1)"
   ]
  },
  {
   "cell_type": "code",
   "execution_count": 16,
   "id": "ff1b702d-a2be-4d06-99f8-b245a7cc961e",
   "metadata": {},
   "outputs": [
    {
     "data": {
      "text/plain": [
       "tensor([[ 1.2411, -1.0458, -0.5736,  0.1482,  0.6596],\n",
       "        [-0.1103,  0.5884, -1.2385, -0.6841, -1.6410],\n",
       "        [-0.5560,  2.2213, -0.5620,  0.3255, -0.1131]], requires_grad=True)"
      ]
     },
     "execution_count": 16,
     "metadata": {},
     "output_type": "execute_result"
    }
   ],
   "source": [
    "pred"
   ]
  },
  {
   "cell_type": "code",
   "execution_count": 17,
   "id": "b8270b8a-f26e-456c-8b4c-6d40aa9753e1",
   "metadata": {},
   "outputs": [
    {
     "data": {
      "text/plain": [
       "tensor([[0.5837, 0.1384, 0.1828, 0.0226, 0.0725],\n",
       "        [0.1382, 0.0240, 0.2921, 0.1535, 0.3922],\n",
       "        [0.0798, 0.1080, 0.1165, 0.2095, 0.4862]])"
      ]
     },
     "execution_count": 17,
     "metadata": {},
     "output_type": "execute_result"
    }
   ],
   "source": [
    "target"
   ]
  },
  {
   "cell_type": "code",
   "execution_count": 18,
   "id": "182f9acf-a251-4d21-b038-ffd481c9e625",
   "metadata": {},
   "outputs": [
    {
     "data": {
      "text/plain": [
       "tensor(2.0980, grad_fn=<DivBackward1>)"
      ]
     },
     "execution_count": 18,
     "metadata": {},
     "output_type": "execute_result"
    }
   ],
   "source": [
    "criterion = nn.CrossEntropyLoss()\n",
    "criterion(pred, target)"
   ]
  },
  {
   "cell_type": "code",
   "execution_count": null,
   "id": "949d2034-233b-49ee-ad66-768de9b46673",
   "metadata": {},
   "outputs": [],
   "source": []
  },
  {
   "cell_type": "markdown",
   "id": "590d9875-e12b-4022-b7fc-75d4c43e2f7b",
   "metadata": {},
   "source": [
    "## Softmax"
   ]
  },
  {
   "cell_type": "code",
   "execution_count": 19,
   "id": "7540070f-d7fd-4e2a-8d14-292c9e0d3940",
   "metadata": {},
   "outputs": [],
   "source": [
    "m = nn.Softmax(dim=1)\n",
    "inp = torch.randn(2, 3)"
   ]
  },
  {
   "cell_type": "code",
   "execution_count": 21,
   "id": "59dd2d9a-60c4-48f3-ba12-3b1039312b15",
   "metadata": {},
   "outputs": [
    {
     "data": {
      "text/plain": [
       "tensor([[ 2.7924, -0.5482,  0.1402],\n",
       "        [ 0.7060,  0.7959,  0.2153]])"
      ]
     },
     "execution_count": 21,
     "metadata": {},
     "output_type": "execute_result"
    }
   ],
   "source": [
    "inp"
   ]
  },
  {
   "cell_type": "code",
   "execution_count": 22,
   "id": "a739f269-254a-4237-9451-25810c35ea7b",
   "metadata": {},
   "outputs": [],
   "source": [
    "output = m(inp)"
   ]
  },
  {
   "cell_type": "code",
   "execution_count": 23,
   "id": "d1cc016e-6d3f-4b43-bbc8-88ea0c995bcb",
   "metadata": {},
   "outputs": [
    {
     "data": {
      "text/plain": [
       "tensor([[0.9042, 0.0320, 0.0637],\n",
       "        [0.3695, 0.4043, 0.2262]])"
      ]
     },
     "execution_count": 23,
     "metadata": {},
     "output_type": "execute_result"
    }
   ],
   "source": [
    "output"
   ]
  },
  {
   "cell_type": "code",
   "execution_count": null,
   "id": "1549f7a2-2ced-4db3-80ef-219d238480c4",
   "metadata": {},
   "outputs": [],
   "source": []
  }
 ],
 "metadata": {
  "kernelspec": {
   "display_name": "Python 3 (ipykernel)",
   "language": "python",
   "name": "python3"
  },
  "language_info": {
   "codemirror_mode": {
    "name": "ipython",
    "version": 3
   },
   "file_extension": ".py",
   "mimetype": "text/x-python",
   "name": "python",
   "nbconvert_exporter": "python",
   "pygments_lexer": "ipython3",
   "version": "3.9.12"
  }
 },
 "nbformat": 4,
 "nbformat_minor": 5
}
