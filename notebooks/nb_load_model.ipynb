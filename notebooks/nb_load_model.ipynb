{
 "cells": [
  {
   "cell_type": "code",
   "execution_count": 1,
   "id": "b23f5c8a-79d6-4131-b8fe-480bed3ddef1",
   "metadata": {},
   "outputs": [
    {
     "name": "stderr",
     "output_type": "stream",
     "text": [
      "/home/warrior/miniconda3/envs/dl/lib/python3.9/site-packages/tqdm/auto.py:22: TqdmWarning: IProgress not found. Please update jupyter and ipywidgets. See https://ipywidgets.readthedocs.io/en/stable/user_install.html\n",
      "  from .autonotebook import tqdm as notebook_tqdm\n"
     ]
    }
   ],
   "source": [
    "import sys\n",
    "sys.path\n",
    "import torch\n",
    "import torch.nn as nn\n",
    "import torch.optim as optim\n",
    "\n",
    "import nibabel as nib"
   ]
  },
  {
   "cell_type": "code",
   "execution_count": 2,
   "id": "d6899396-d255-4454-bfb3-8c6448fa7628",
   "metadata": {},
   "outputs": [],
   "source": [
    "%load_ext autoreload\n",
    "%autoreload 2\n",
    "from model.uunet_3d import UNet"
   ]
  },
  {
   "cell_type": "code",
   "execution_count": 3,
   "id": "9bd2359a-df16-4aaa-91f3-4eed8bbd84de",
   "metadata": {},
   "outputs": [
    {
     "data": {
      "text/plain": [
       "[64, 128, 256, 512, 1024]"
      ]
     },
     "execution_count": 3,
     "metadata": {},
     "output_type": "execute_result"
    }
   ],
   "source": [
    "n1 = 64\n",
    "filters = [n1, n1 * 2, n1 * 4, n1 * 8, n1 * 16]\n",
    "filters"
   ]
  },
  {
   "cell_type": "code",
   "execution_count": 4,
   "id": "40969fcf-4336-4ae4-82ff-30a6f1cf4f08",
   "metadata": {},
   "outputs": [
    {
     "name": "stdout",
     "output_type": "stream",
     "text": [
      "cpu\n",
      "\n"
     ]
    }
   ],
   "source": [
    "model = UNet(filters=filters)\n",
    "device = torch.device(\"cpu\")\n",
    "print(device)\n",
    "#loss = nn.CrossEntropyLoss()\n",
    "loss = nn.BCEWithLogitsLoss()\n",
    "\n",
    "model.to(device)\n",
    "model.eval()\n",
    "print('')"
   ]
  },
  {
   "cell_type": "markdown",
   "id": "3dc89a88-34c3-4d4d-ba55-4df2be43b651",
   "metadata": {},
   "source": [
    "# DATA\n",
    "### Input _ [batch * channel(# of channels of each image) * depth(# of frames) * height * width]."
   ]
  },
  {
   "cell_type": "code",
   "execution_count": 5,
   "id": "2ac55e1b-d583-4d02-a60e-13d3d25bcca1",
   "metadata": {},
   "outputs": [
    {
     "name": "stdout",
     "output_type": "stream",
     "text": [
      "<class 'numpy.ndarray'>\n",
      "Height, Width, N_images, Channels\n",
      "(32, 32, 32)\n"
     ]
    }
   ],
   "source": [
    "nii_file  = nib.load('data/hippo_train.nii.gz')\n",
    "nii_data = nii_file.get_fdata()\n",
    "print(type(nii_data))\n",
    "print('Height, Width, N_images, Channels')\n",
    "print(nii_data.shape)"
   ]
  },
  {
   "cell_type": "code",
   "execution_count": 6,
   "id": "a2cd5fc9-b653-4b40-833c-6eecf9c87b54",
   "metadata": {},
   "outputs": [
    {
     "name": "stdout",
     "output_type": "stream",
     "text": [
      "torch.Size([32, 32, 32])\n",
      "torch.float64\n"
     ]
    }
   ],
   "source": [
    "x = torch.from_numpy(nii_data)\n",
    "print(x.shape)\n",
    "print(x.dtype)"
   ]
  },
  {
   "cell_type": "code",
   "execution_count": 7,
   "id": "6dd51570-cb29-4b0b-b68a-fcb7038ed7d6",
   "metadata": {},
   "outputs": [
    {
     "name": "stdout",
     "output_type": "stream",
     "text": [
      "torch.Size([32, 32, 32])\n",
      "torch.float64\n"
     ]
    }
   ],
   "source": [
    "x = x.permute(2, 0, 1)\n",
    "print(x.shape)\n",
    "print(x.dtype)"
   ]
  },
  {
   "cell_type": "code",
   "execution_count": 8,
   "id": "38969ac3-a9d9-4440-a540-9f207fd307cc",
   "metadata": {},
   "outputs": [
    {
     "name": "stdout",
     "output_type": "stream",
     "text": [
      "torch.Size([1, 32, 32, 32])\n",
      "torch.float64\n"
     ]
    }
   ],
   "source": [
    "x = torch.unsqueeze(x, dim=0)\n",
    "print(x.shape)\n",
    "print(x.dtype)"
   ]
  },
  {
   "cell_type": "code",
   "execution_count": 9,
   "id": "0dce753f-626e-42f7-9846-ebc371bf8e85",
   "metadata": {},
   "outputs": [
    {
     "name": "stdout",
     "output_type": "stream",
     "text": [
      "torch.Size([1, 1, 32, 32, 32])\n",
      "torch.float64\n"
     ]
    }
   ],
   "source": [
    "x = torch.unsqueeze(x, dim=0)\n",
    "print(x.shape)\n",
    "print(x.dtype)"
   ]
  },
  {
   "cell_type": "code",
   "execution_count": 10,
   "id": "fc85c1da-ee34-4643-a315-f3b1afe4fbe9",
   "metadata": {},
   "outputs": [
    {
     "name": "stdout",
     "output_type": "stream",
     "text": [
      "INPUT: torch.Size([1, 1, 32, 32, 32])\n",
      "ENCODER\n",
      "->e1 torch.Size([1, 64, 32, 32, 32])\n",
      "\n",
      "!!e2 torch.Size([1, 64, 16, 16, 16])\n",
      "->e2 torch.Size([1, 128, 16, 16, 16])\n",
      "\n",
      "!!e3 torch.Size([1, 128, 8, 8, 8])\n",
      "->e3 torch.Size([1, 256, 8, 8, 8])\n",
      "\n",
      "!!e4 torch.Size([1, 256, 4, 4, 4])\n",
      "->e4 torch.Size([1, 512, 4, 4, 4])\n",
      "\n",
      "DECODER\n",
      "^d3 torch.Size([1, 256, 8, 8, 8])\n",
      "[]d3 torch.Size([1, 512, 8, 8, 8])\n",
      "->d3 torch.Size([1, 256, 8, 8, 8])\n",
      "\n",
      "^d2 torch.Size([1, 128, 16, 16, 16])\n",
      "[]d2 torch.Size([1, 256, 16, 16, 16])\n",
      "->d2 torch.Size([1, 128, 16, 16, 16])\n",
      "\n",
      "^d1 torch.Size([1, 64, 32, 32, 32])\n",
      "[]d1 torch.Size([1, 128, 16, 16, 16])\n",
      "->d1 torch.Size([1, 64, 32, 32, 32])\n",
      "1x1out torch.Size([1, 1, 32, 32, 32])\n"
     ]
    }
   ],
   "source": [
    "y = model(x.float())"
   ]
  },
  {
   "cell_type": "code",
   "execution_count": 11,
   "id": "e85ba70c-27e6-4c1e-9b62-82c9cd85e716",
   "metadata": {},
   "outputs": [],
   "source": [
    "#print(len(y))\n",
    "#y[0].shape"
   ]
  },
  {
   "cell_type": "code",
   "execution_count": 12,
   "id": "035d228d-06a9-414b-829f-02399f0c1b26",
   "metadata": {},
   "outputs": [],
   "source": [
    "#torch.save(y[0], 'prediction/tensor_image.pth')"
   ]
  },
  {
   "cell_type": "code",
   "execution_count": null,
   "id": "08fbb30a-f19b-4dd7-bc2e-e88952887efa",
   "metadata": {},
   "outputs": [],
   "source": []
  }
 ],
 "metadata": {
  "kernelspec": {
   "display_name": "Python 3 (ipykernel)",
   "language": "python",
   "name": "python3"
  },
  "language_info": {
   "codemirror_mode": {
    "name": "ipython",
    "version": 3
   },
   "file_extension": ".py",
   "mimetype": "text/x-python",
   "name": "python",
   "nbconvert_exporter": "python",
   "pygments_lexer": "ipython3",
   "version": "3.9.12"
  }
 },
 "nbformat": 4,
 "nbformat_minor": 5
}
