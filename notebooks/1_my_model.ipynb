{
 "cells": [
  {
   "cell_type": "code",
   "execution_count": 1,
   "id": "b23f5c8a-79d6-4131-b8fe-480bed3ddef1",
   "metadata": {},
   "outputs": [
    {
     "name": "stderr",
     "output_type": "stream",
     "text": [
      "/home/warrior/miniconda3/envs/dl/lib/python3.9/site-packages/tqdm/auto.py:22: TqdmWarning: IProgress not found. Please update jupyter and ipywidgets. See https://ipywidgets.readthedocs.io/en/stable/user_install.html\n",
      "  from .autonotebook import tqdm as notebook_tqdm\n"
     ]
    }
   ],
   "source": [
    "import os\n",
    "import sys\n",
    "import torch\n",
    "import torch.nn as nn\n",
    "import torch.optim as optim\n",
    "\n",
    "import nibabel as nib\n",
    "import boto3"
   ]
  },
  {
   "cell_type": "code",
   "execution_count": 2,
   "id": "3d1fc813-6e2f-479a-a284-217ad8454101",
   "metadata": {},
   "outputs": [],
   "source": [
    "nb_dir = os.path.split(os.getcwd())[0]\n",
    "sys.path.append(nb_dir)"
   ]
  },
  {
   "cell_type": "code",
   "execution_count": 3,
   "id": "80ceeb86-3286-4470-969e-892bb4d928a5",
   "metadata": {},
   "outputs": [],
   "source": [
    "def get_s3_data(bucket, key, local_path):\n",
    "    s3 = boto3.client(\"s3\",\n",
    "            #aws_access_key_id=os.environ['AWS_ACCESS_KEY_ID'],\n",
    "            #aws_secret_access_key=os.environ['AWS_SECRET_ACCESS_KEY'],\n",
    "            )\n",
    "\n",
    "    with open(local_path, 'wb') as data:\n",
    "        s3.download_fileobj(bucket, key, data)\n",
    "    print(f'Saved to: {local_path}')"
   ]
  },
  {
   "cell_type": "code",
   "execution_count": 4,
   "id": "5b74ab92-781d-4801-b7bd-d67ef1c98534",
   "metadata": {},
   "outputs": [],
   "source": [
    "#s3_PATH = 'apps/62e83227fb855042132724a2/results/model.pt'\n",
    "s3_PATH = 'apps/62e83227fb855042132724a2/results/model_weights.pt'\n",
    "LOCAL_PATH = '../local_data/model_weights.pt'"
   ]
  },
  {
   "cell_type": "code",
   "execution_count": 5,
   "id": "fdbe45f5-3a2a-4276-a3bf-0229f2157a30",
   "metadata": {},
   "outputs": [
    {
     "name": "stdout",
     "output_type": "stream",
     "text": [
      "Saved to: ../local_data/model_weights.pt\n"
     ]
    }
   ],
   "source": [
    "BUCKET = 'test.superbio.ai'\n",
    "KEY = s3_PATH\n",
    "get_s3_data(bucket=BUCKET, key=KEY, local_path=LOCAL_PATH)"
   ]
  },
  {
   "cell_type": "code",
   "execution_count": 6,
   "id": "b1efe479-6296-43c9-a224-ba41fabc2f5e",
   "metadata": {},
   "outputs": [],
   "source": [
    "%load_ext autoreload\n",
    "%autoreload 2\n",
    "from unet.models.uunet_3d import UNet"
   ]
  },
  {
   "cell_type": "code",
   "execution_count": 7,
   "id": "dc6c5418-739d-4c1b-ad4f-2448fe0f6688",
   "metadata": {},
   "outputs": [],
   "source": [
    "PATH = '../local_data/model_weights.pt'"
   ]
  },
  {
   "cell_type": "code",
   "execution_count": 9,
   "id": "a5c5b16a-c07f-4fa6-bae7-b52a853f7e93",
   "metadata": {},
   "outputs": [
    {
     "name": "stdout",
     "output_type": "stream",
     "text": [
      "\n"
     ]
    }
   ],
   "source": [
    "#f1 = 64\n",
    "#filters = [f1, f1 * 2, f1 * 4, f1 * 8, f1 * 16]\n",
    "model = UNet()\n",
    "model.load_state_dict(torch.load(PATH, map_location=torch.device('cpu')))\n",
    "model.eval()\n",
    "print('')"
   ]
  },
  {
   "cell_type": "code",
   "execution_count": null,
   "id": "e0791e4f-887e-47a6-aa20-0ef13f809be6",
   "metadata": {},
   "outputs": [],
   "source": []
  },
  {
   "cell_type": "code",
   "execution_count": 10,
   "id": "e048ec2b-4328-4edf-af5d-8492b2184d4e",
   "metadata": {},
   "outputs": [
    {
     "name": "stdout",
     "output_type": "stream",
     "text": [
      "<class 'numpy.ndarray'>\n",
      "Height, Width, N_images, Channels\n",
      "(32, 32, 32)\n"
     ]
    }
   ],
   "source": [
    "nii_file  = nib.load('../local_data/test_data/hippo_001.nii.gz')\n",
    "nii_data = nii_file.get_fdata()\n",
    "print(type(nii_data))\n",
    "print('Height, Width, N_images, Channels')\n",
    "print(nii_data.shape)"
   ]
  },
  {
   "cell_type": "code",
   "execution_count": 11,
   "id": "858036f9-0a6a-4338-ba7c-cefcd98db00a",
   "metadata": {},
   "outputs": [
    {
     "name": "stdout",
     "output_type": "stream",
     "text": [
      "torch.Size([32, 32, 32])\n",
      "torch.float64\n"
     ]
    }
   ],
   "source": [
    "x = torch.from_numpy(nii_data)\n",
    "print(x.shape)\n",
    "print(x.dtype)"
   ]
  },
  {
   "cell_type": "code",
   "execution_count": 12,
   "id": "5db11416-0a26-422c-80fa-fc7ff289edb7",
   "metadata": {},
   "outputs": [
    {
     "name": "stdout",
     "output_type": "stream",
     "text": [
      "torch.Size([32, 32, 32])\n",
      "torch.float64\n"
     ]
    }
   ],
   "source": [
    "x = x.permute(2, 0, 1)\n",
    "print(x.shape)\n",
    "print(x.dtype)"
   ]
  },
  {
   "cell_type": "code",
   "execution_count": 13,
   "id": "aa09d0b6-0cb0-43e8-ab17-17110b9843e5",
   "metadata": {},
   "outputs": [
    {
     "name": "stdout",
     "output_type": "stream",
     "text": [
      "torch.Size([1, 32, 32, 32])\n",
      "torch.float64\n"
     ]
    }
   ],
   "source": [
    "x = torch.unsqueeze(x, dim=0)\n",
    "print(x.shape)\n",
    "print(x.dtype)"
   ]
  },
  {
   "cell_type": "code",
   "execution_count": 14,
   "id": "f63b6db2-32b4-4739-851d-c901871bf41a",
   "metadata": {},
   "outputs": [
    {
     "name": "stdout",
     "output_type": "stream",
     "text": [
      "torch.Size([1, 1, 32, 32, 32])\n",
      "torch.float64\n"
     ]
    }
   ],
   "source": [
    "x = torch.unsqueeze(x, dim=0)\n",
    "print(x.shape)\n",
    "print(x.dtype)"
   ]
  },
  {
   "cell_type": "code",
   "execution_count": null,
   "id": "840ad7e4-d214-4249-a624-53fda940af83",
   "metadata": {},
   "outputs": [],
   "source": []
  },
  {
   "cell_type": "code",
   "execution_count": 15,
   "id": "4155dd05-e20a-4268-8cc1-959f8c9236a9",
   "metadata": {},
   "outputs": [],
   "source": [
    "y_result = model(x.float())"
   ]
  },
  {
   "cell_type": "code",
   "execution_count": 16,
   "id": "525e90ff-3ae3-46ca-95e6-fdb9f33fc8c3",
   "metadata": {},
   "outputs": [
    {
     "name": "stdout",
     "output_type": "stream",
     "text": [
      "1\n"
     ]
    },
    {
     "data": {
      "text/plain": [
       "torch.Size([1, 1, 32, 32, 32])"
      ]
     },
     "execution_count": 16,
     "metadata": {},
     "output_type": "execute_result"
    }
   ],
   "source": [
    "print(len(y_result))\n",
    "y_result[0].shape"
   ]
  },
  {
   "cell_type": "code",
   "execution_count": 17,
   "id": "035d228d-06a9-414b-829f-02399f0c1b26",
   "metadata": {},
   "outputs": [],
   "source": [
    "torch.save(y_result[0], '../local_data/prediction/tensor_image.pth')"
   ]
  },
  {
   "cell_type": "code",
   "execution_count": null,
   "id": "08fbb30a-f19b-4dd7-bc2e-e88952887efa",
   "metadata": {},
   "outputs": [],
   "source": []
  }
 ],
 "metadata": {
  "kernelspec": {
   "display_name": "Python 3 (ipykernel)",
   "language": "python",
   "name": "python3"
  },
  "language_info": {
   "codemirror_mode": {
    "name": "ipython",
    "version": 3
   },
   "file_extension": ".py",
   "mimetype": "text/x-python",
   "name": "python",
   "nbconvert_exporter": "python",
   "pygments_lexer": "ipython3",
   "version": "3.9.12"
  }
 },
 "nbformat": 4,
 "nbformat_minor": 5
}
